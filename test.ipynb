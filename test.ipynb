{
 "cells": [
  {
   "cell_type": "code",
   "execution_count": null,
   "id": "59462c39",
   "metadata": {},
   "outputs": [],
   "source": [
    "from delta_rest_client import DeltaRestClient, OrderType\n",
    "import json\n",
    "import sys\n",
    "import requests\n",
    "from time import time\n",
    "import hmac\n",
    "import hashlib\n",
    "from utils import *\n",
    "\n",
    "key = None\n",
    "secret = None\n",
    "with open(\"creds.json\",'r') as f:\n",
    "    op = json.load(f)\n",
    "    key = op.get('api')\n",
    "    secret = op.get('secret')\n",
    "\n",
    "if key is None or secret is None:\n",
    "    print(key)\n",
    "    print(secret)\n",
    "    sys.exit(1)\n",
    "baseurl = \"https://api.india.delta.exchange\""
   ]
  },
  {
   "cell_type": "code",
   "execution_count": 11,
   "id": "508e6440",
   "metadata": {},
   "outputs": [
    {
     "data": {
      "text/plain": [
       "{'leverage': '20', 'order_margin': '0.50005', 'product_id': 27}"
      ]
     },
     "execution_count": 11,
     "metadata": {},
     "output_type": "execute_result"
    }
   ],
   "source": [
    "client = DeltaRestClient(\n",
    "  base_url=baseurl,\n",
    "  api_key=key,\n",
    "  api_secret=secret\n",
    ")\n",
    "productId = get_product_id_by_symbol(symbol = 'BTCUSD')\n",
    "client.set_leverage(productId, 20)"
   ]
  },
  {
   "cell_type": "code",
   "execution_count": null,
   "id": "0bad46bb",
   "metadata": {},
   "outputs": [],
   "source": [
    "import threading\n",
    "import time\n",
    "import json\n",
    "import os\n",
    "from delta_rest_client import DeltaRestClient\n",
    "\n",
    "class OrderManager:\n",
    "    def __init__(self, client: DeltaRestClient, state_file='orders_state.json'):\n",
    "        self.client = client\n",
    "        self.qty = None\n",
    "        self.entry_price = None\n",
    "        self.type = None\n",
    "        self.active_orders = self._load_active_orders()\n",
    "        # self.active_positions = self._load_active_positions()\n",
    "\n",
    "    def starttrade(self, product_id, size, side, entry_price, stop_loss_price, target_price):\n",
    "        try:\n",
    "            entry_order = self.client.place_order(\n",
    "                product_id=product_id,\n",
    "                size=size,\n",
    "                side=side,\n",
    "                limit_price=entry_price,\n",
    "                order_type=OrderType.LIMIT,\n",
    "            )\n",
    "            print(f\"Entry order placed: {entry_order}\")\n",
    "        except Exception as e:\n",
    "            print(f\"Failed to place bracket order: {e}\")\n",
    "            return None\n",
    "        \n",
    "    def _load_active_orders(self, productId):\n",
    "        r = client.get_position(productId)\n",
    "        \n",
    "        try:\n",
    "            self.qty = r['size']\n",
    "            self.entry_price = r['entry_price']\n",
    "            self.type = 'buy' if qty > 0 else 'sell' \n",
    "        except Exception as e:\n",
    "            print(e)\n",
    "\n",
    "\n",
    "\n",
    "    # def place_bracket_order(self, product_id, size, side, entry_price, stop_loss_price, target_price):\n",
    "        \n",
    "\n",
    "    #         # Stop-loss order (opposite side)\n",
    "    #         stop_order = self.client.place_stop_order(\n",
    "    #             product_id=product_id,\n",
    "    #             size=size,\n",
    "    #             side='sell' if side == 'buy' else 'buy',\n",
    "    #             stop_price=stop_loss_price,\n",
    "    #             limit_price=stop_loss_price,\n",
    "    #             order_type=OrderType.LIMIT,\n",
    "    #             isTrailingStopLoss=False\n",
    "    #         )\n",
    "    #         print(f\"Stop-loss order placed: {stop_order}\")\n",
    "\n",
    "    #         # Target order (opposite side)\n",
    "    #         target_order = self.client.place_order(\n",
    "    #             product_id=product_id,\n",
    "    #             size=size,\n",
    "    #             side='sell' if side == 'buy' else 'buy',\n",
    "    #             limit_price=target_price,\n",
    "    #             order_type=OrderType.LIMIT,\n",
    "    #         )\n",
    "    #         print(f\"Target order placed: {target_order}\")\n",
    "\n",
    "    #         return {\n",
    "    #             \"entry_order\": entry_order,\n",
    "    #             \"stop_order\": stop_order,\n",
    "    #             \"target_order\": target_order\n",
    "    #         }\n",
    "\n"
   ]
  },
  {
   "cell_type": "code",
   "execution_count": 23,
   "id": "d5e62eaf",
   "metadata": {},
   "outputs": [],
   "source": [
    "order = OrderManager(client)"
   ]
  },
  {
   "cell_type": "code",
   "execution_count": 20,
   "id": "6746195c",
   "metadata": {},
   "outputs": [
    {
     "name": "stdout",
     "output_type": "stream",
     "text": [
      "Entry order placed: {'stop_order_type': None, 'user_id': 88133346, 'bracket_take_profit_limit_price': None, 'unfilled_size': 1, 'product_symbol': 'BTCUSD', 'bracket_take_profit_price': None, 'quote_size': None, 'state': 'open', 'commission': '0', 'id': 702028202, 'close_on_trigger': 'false', 'bracket_stop_loss_price': None, 'limit_price': '10000', 'updated_at': '2025-07-13T11:56:21.198924Z', 'side': 'buy', 'average_fill_price': None, 'bracket_order': None, 'product_id': 27, 'time_in_force': 'gtc', 'bracket_stop_loss_limit_price': None, 'order_type': 'limit_order', 'stop_trigger_method': None, 'meta_data': {'ip': '2405:201:18:833:b825:b86a:4c2f:1c6', 'otc': False, 'source': 'api'}, 'bracket_trail_amount': None, 'reduce_only': False, 'client_order_id': None, 'stop_price': None, 'mmp': 'disabled', 'created_at': '2025-07-13T11:56:21.198924Z', 'size': 1, 'trail_amount': None, 'cancellation_reason': None, 'paid_commission': '0'}\n",
      "Stop-loss order placed: {'stop_order_type': 'stop_loss_order', 'user_id': 88133346, 'bracket_take_profit_limit_price': None, 'unfilled_size': 1, 'product_symbol': 'BTCUSD', 'bracket_take_profit_price': None, 'quote_size': None, 'state': 'pending', 'commission': '0', 'id': 702028225, 'close_on_trigger': 'false', 'bracket_stop_loss_price': None, 'limit_price': '9999', 'updated_at': '2025-07-13T11:56:22.239183Z', 'side': 'sell', 'average_fill_price': None, 'bracket_order': None, 'product_id': 27, 'time_in_force': 'gtc', 'bracket_stop_loss_limit_price': None, 'order_type': 'limit_order', 'stop_trigger_method': 'mark_price', 'meta_data': {'order_triggered_from_strategy_builder': False, 'source': 'api'}, 'bracket_trail_amount': None, 'reduce_only': False, 'client_order_id': None, 'stop_price': '9999', 'mmp': 'disabled', 'created_at': '2025-07-13T11:56:22.239183Z', 'size': 1, 'trail_amount': None, 'cancellation_reason': None, 'paid_commission': '0'}\n",
      "Target order placed: {'stop_order_type': None, 'user_id': 88133346, 'bracket_take_profit_limit_price': None, 'unfilled_size': 0, 'product_symbol': 'BTCUSD', 'bracket_take_profit_price': None, 'quote_size': None, 'state': 'closed', 'commission': '0', 'id': 702028244, 'close_on_trigger': 'false', 'bracket_stop_loss_price': None, 'limit_price': '112064', 'updated_at': '2025-07-13T11:56:23.948757Z', 'side': 'sell', 'average_fill_price': '117961', 'bracket_order': None, 'product_id': 27, 'time_in_force': 'gtc', 'bracket_stop_loss_limit_price': None, 'order_type': 'limit_order', 'stop_trigger_method': None, 'meta_data': {'cashflow': '0', 'ip': '2405:201:18:833:b825:b86a:4c2f:1c6', 'otc': False, 'pnl': '0', 'source': 'api'}, 'bracket_trail_amount': None, 'reduce_only': False, 'client_order_id': None, 'stop_price': None, 'mmp': 'disabled', 'created_at': '2025-07-13T11:56:23.787982Z', 'size': 1, 'trail_amount': None, 'cancellation_reason': None, 'paid_commission': '0.06959699'}\n"
     ]
    },
    {
     "data": {
      "text/plain": [
       "{'entry_order': {'stop_order_type': None,\n",
       "  'user_id': 88133346,\n",
       "  'bracket_take_profit_limit_price': None,\n",
       "  'unfilled_size': 1,\n",
       "  'product_symbol': 'BTCUSD',\n",
       "  'bracket_take_profit_price': None,\n",
       "  'quote_size': None,\n",
       "  'state': 'open',\n",
       "  'commission': '0',\n",
       "  'id': 702028202,\n",
       "  'close_on_trigger': 'false',\n",
       "  'bracket_stop_loss_price': None,\n",
       "  'limit_price': '10000',\n",
       "  'updated_at': '2025-07-13T11:56:21.198924Z',\n",
       "  'side': 'buy',\n",
       "  'average_fill_price': None,\n",
       "  'bracket_order': None,\n",
       "  'product_id': 27,\n",
       "  'time_in_force': 'gtc',\n",
       "  'bracket_stop_loss_limit_price': None,\n",
       "  'order_type': 'limit_order',\n",
       "  'stop_trigger_method': None,\n",
       "  'meta_data': {'ip': '2405:201:18:833:b825:b86a:4c2f:1c6',\n",
       "   'otc': False,\n",
       "   'source': 'api'},\n",
       "  'bracket_trail_amount': None,\n",
       "  'reduce_only': False,\n",
       "  'client_order_id': None,\n",
       "  'stop_price': None,\n",
       "  'mmp': 'disabled',\n",
       "  'created_at': '2025-07-13T11:56:21.198924Z',\n",
       "  'size': 1,\n",
       "  'trail_amount': None,\n",
       "  'cancellation_reason': None,\n",
       "  'paid_commission': '0'},\n",
       " 'stop_order': {'stop_order_type': 'stop_loss_order',\n",
       "  'user_id': 88133346,\n",
       "  'bracket_take_profit_limit_price': None,\n",
       "  'unfilled_size': 1,\n",
       "  'product_symbol': 'BTCUSD',\n",
       "  'bracket_take_profit_price': None,\n",
       "  'quote_size': None,\n",
       "  'state': 'pending',\n",
       "  'commission': '0',\n",
       "  'id': 702028225,\n",
       "  'close_on_trigger': 'false',\n",
       "  'bracket_stop_loss_price': None,\n",
       "  'limit_price': '9999',\n",
       "  'updated_at': '2025-07-13T11:56:22.239183Z',\n",
       "  'side': 'sell',\n",
       "  'average_fill_price': None,\n",
       "  'bracket_order': None,\n",
       "  'product_id': 27,\n",
       "  'time_in_force': 'gtc',\n",
       "  'bracket_stop_loss_limit_price': None,\n",
       "  'order_type': 'limit_order',\n",
       "  'stop_trigger_method': 'mark_price',\n",
       "  'meta_data': {'order_triggered_from_strategy_builder': False,\n",
       "   'source': 'api'},\n",
       "  'bracket_trail_amount': None,\n",
       "  'reduce_only': False,\n",
       "  'client_order_id': None,\n",
       "  'stop_price': '9999',\n",
       "  'mmp': 'disabled',\n",
       "  'created_at': '2025-07-13T11:56:22.239183Z',\n",
       "  'size': 1,\n",
       "  'trail_amount': None,\n",
       "  'cancellation_reason': None,\n",
       "  'paid_commission': '0'},\n",
       " 'target_order': {'stop_order_type': None,\n",
       "  'user_id': 88133346,\n",
       "  'bracket_take_profit_limit_price': None,\n",
       "  'unfilled_size': 0,\n",
       "  'product_symbol': 'BTCUSD',\n",
       "  'bracket_take_profit_price': None,\n",
       "  'quote_size': None,\n",
       "  'state': 'closed',\n",
       "  'commission': '0',\n",
       "  'id': 702028244,\n",
       "  'close_on_trigger': 'false',\n",
       "  'bracket_stop_loss_price': None,\n",
       "  'limit_price': '112064',\n",
       "  'updated_at': '2025-07-13T11:56:23.948757Z',\n",
       "  'side': 'sell',\n",
       "  'average_fill_price': '117961',\n",
       "  'bracket_order': None,\n",
       "  'product_id': 27,\n",
       "  'time_in_force': 'gtc',\n",
       "  'bracket_stop_loss_limit_price': None,\n",
       "  'order_type': 'limit_order',\n",
       "  'stop_trigger_method': None,\n",
       "  'meta_data': {'cashflow': '0',\n",
       "   'ip': '2405:201:18:833:b825:b86a:4c2f:1c6',\n",
       "   'otc': False,\n",
       "   'pnl': '0',\n",
       "   'source': 'api'},\n",
       "  'bracket_trail_amount': None,\n",
       "  'reduce_only': False,\n",
       "  'client_order_id': None,\n",
       "  'stop_price': None,\n",
       "  'mmp': 'disabled',\n",
       "  'created_at': '2025-07-13T11:56:23.787982Z',\n",
       "  'size': 1,\n",
       "  'trail_amount': None,\n",
       "  'cancellation_reason': None,\n",
       "  'paid_commission': '0.06959699'}}"
      ]
     },
     "execution_count": 20,
     "metadata": {},
     "output_type": "execute_result"
    }
   ],
   "source": [
    "order.place_bracket_order(productId, 1, 'buy', 10000, 9999, 10001)"
   ]
  },
  {
   "cell_type": "code",
   "execution_count": 24,
   "id": "5769c00b",
   "metadata": {},
   "outputs": [
    {
     "data": {
      "text/plain": [
       "{'entry_price': '118056.00000000', 'size': 1}"
      ]
     },
     "execution_count": 24,
     "metadata": {},
     "output_type": "execute_result"
    }
   ],
   "source": [
    "client.get_position(productId)"
   ]
  },
  {
   "cell_type": "code",
   "execution_count": null,
   "id": "2ebb34c6",
   "metadata": {},
   "outputs": [
    {
     "data": {
      "text/plain": [
       "'0.001'"
      ]
     },
     "execution_count": 26,
     "metadata": {},
     "output_type": "execute_result"
    }
   ],
   "source": []
  },
  {
   "cell_type": "code",
   "execution_count": null,
   "id": "52a75c1b",
   "metadata": {},
   "outputs": [],
   "source": []
  }
 ],
 "metadata": {
  "kernelspec": {
   "display_name": "tradebot",
   "language": "python",
   "name": "python3"
  },
  "language_info": {
   "codemirror_mode": {
    "name": "ipython",
    "version": 3
   },
   "file_extension": ".py",
   "mimetype": "text/x-python",
   "name": "python",
   "nbconvert_exporter": "python",
   "pygments_lexer": "ipython3",
   "version": "3.11.8"
  }
 },
 "nbformat": 4,
 "nbformat_minor": 5
}
