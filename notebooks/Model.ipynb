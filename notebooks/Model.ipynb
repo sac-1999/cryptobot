{
 "cells": [
  {
   "cell_type": "markdown",
   "id": "34a6203d-0089-4bb4-bbb2-71375a3484a3",
   "metadata": {},
   "source": [
    "# Basic Dataset"
   ]
  },
  {
   "cell_type": "code",
   "execution_count": 1,
   "id": "69567966-0ba5-4b3d-b198-c797384820e5",
   "metadata": {},
   "outputs": [],
   "source": [
    "import datetime\n",
    "import pandas as pd\n",
    "import numpy as np\n",
    "import warnings\n",
    "warnings.filterwarnings(\"ignore\")"
   ]
  },
  {
   "cell_type": "code",
   "execution_count": 2,
   "id": "00d1c34e-6fee-4151-b66f-a94b4e7144fe",
   "metadata": {},
   "outputs": [],
   "source": [
    "import sys\n",
    "sys.path.append('/Users/macuser/Documents/trading/cryptobot/features')\n",
    "import dataset, calendar_util"
   ]
  },
  {
   "cell_type": "code",
   "execution_count": 3,
   "id": "fa685ff9-56f0-4884-bb99-7cacabc145d1",
   "metadata": {},
   "outputs": [],
   "source": [
    "start_date = pd.to_datetime('2024-02-10')\n",
    "end_date = pd.to_datetime('2025-03-31')\n",
    "freq = '30min'\n",
    "num_features = 20\n",
    "model_train_freq = 'weekly'\n",
    "train_lookback_days = 63\n",
    "feature_cols = [f'ret_{i + 1}' for i in range(num_features)]\n",
    "feature_cols += ['ema_7', 'ema_14', 'ema_21', 'ema_44', 'ema_50',\n",
    "       'ema_63', 'ema_100', 'ema_132', 'ema_200', 'ema_256', 'supertrend_10_3',\n",
    "       'supertrend_15_1', 'supertrend_10_2', 'supertrend_8_2',\n",
    "       'supertrend_8_3', 'vwap', 'rsi_14', 'macd',]\n",
    "label_col = 'Fwd_Ret'"
   ]
  },
  {
   "cell_type": "code",
   "execution_count": 4,
   "id": "25757301-07d3-4903-899c-f5f69d8d650c",
   "metadata": {},
   "outputs": [],
   "source": [
    "from datetime import datetime, timedelta\n",
    "import dataset  # assumes dataset.get(date) exists\n",
    "\n",
    "        \n",
    "def collect_data_train(symbol, start_date, end_date):\n",
    "    collected_data = []\n",
    "    current = start_date\n",
    "    while current <= end_date:\n",
    "        print('getting data for', current)\n",
    "        try:\n",
    "            data = dataset.train_data(symbol, current, freq, num_features)\n",
    "            if data is not None:\n",
    "                collected_data.append(data)\n",
    "        except Exception as e:\n",
    "            print(f\"Error on {current}: {e}\")\n",
    "        current += timedelta(days=1)\n",
    "\n",
    "    return pd.concat(collected_data)\n",
    "\n",
    "\n",
    "import pandas as pd\n",
    "from datetime import datetime\n",
    "from typing import Union, Literal\n",
    "\n",
    "def get_train_data(df,\n",
    "                   target_date,\n",
    "                   lookback_days,\n",
    "                   lag = 1):\n",
    "    \"\"\"\n",
    "    Uses get_training_dates to slice the training data from df.\n",
    "    \"\"\"\n",
    "    target_date = pd.to_datetime(target_date).date()\n",
    "    df['date'] = pd.to_datetime(df['timestamp']).dt.date\n",
    "\n",
    "    training_dates = calendar_util.get_training_dates(target_date, lookback_days, lag=lag, frequency=model_train_freq)\n",
    "    train_df = df[df['date'].isin(training_dates)]\n",
    "    return train_df\n"
   ]
  },
  {
   "cell_type": "code",
   "execution_count": null,
   "id": "9b7ea59d-602b-41c6-8559-de5586115c86",
   "metadata": {},
   "outputs": [],
   "source": [
    "dataset_df = collect_data_train('BTCUSD', start_date, end_date)"
   ]
  },
  {
   "cell_type": "code",
   "execution_count": 6,
   "id": "59938d3c-b640-4920-8456-ee017a6e95e1",
   "metadata": {},
   "outputs": [
    {
     "name": "stdout",
     "output_type": "stream",
     "text": [
      "Index(['ret_1', 'ret_2', 'ret_3', 'ret_4', 'ret_5', 'ret_6', 'ret_7', 'ret_8',\n",
      "       'ret_9', 'ret_10', 'ret_11', 'ret_12', 'ret_13', 'ret_14', 'ret_15',\n",
      "       'ret_16', 'ret_17', 'ret_18', 'ret_19', 'ret_20', 'timestamp',\n",
      "       'fetch_timestamp', 'ema_7', 'ema_14', 'ema_21', 'ema_44', 'ema_50',\n",
      "       'ema_63', 'ema_100', 'ema_132', 'ema_200', 'ema_256', 'supertrend_10_3',\n",
      "       'supertrend_15_1', 'supertrend_10_2', 'supertrend_8_2',\n",
      "       'supertrend_8_3', 'vwap', 'rsi_14', 'macd', 'Fwd_Ret'],\n",
      "      dtype='object')\n"
     ]
    }
   ],
   "source": [
    "print(dataset_df.columns)"
   ]
  },
  {
   "cell_type": "code",
   "execution_count": 7,
   "id": "11bd4c1e-bef2-4d43-9772-5fd63a362ba3",
   "metadata": {},
   "outputs": [],
   "source": [
    "model_train_dates = sorted(list(set([calendar_util.get_last_training_date(dt, frequency = model_train_freq) for dt in pd.date_range(start=start_date, end=end_date, freq='D')])))"
   ]
  },
  {
   "cell_type": "code",
   "execution_count": null,
   "id": "5fd7b581-d92f-41b7-88d6-7be634668f03",
   "metadata": {},
   "outputs": [],
   "source": [
    "model_prediction_dates = {}\n",
    "\n",
    "for i, train_date in enumerate(model_train_dates):\n",
    "    # Determine the start of prediction (day after training)\n",
    "    pred_start = train_date\n",
    "\n",
    "    # Determine the end of prediction\n",
    "    if i + 1 < len(model_train_dates):\n",
    "        pred_end = model_train_dates[i + 1]\n",
    "    else:\n",
    "        pred_end = end_date + pd.Timedelta(days=1)  # include last day\n",
    "\n",
    "    # Generate prediction date range (exclude train_date itself)\n",
    "    pred_dates = pd.date_range(start=pred_start, end=pred_end - pd.Timedelta(days=1), freq='D')\n",
    "\n",
    "    model_prediction_dates[train_date] = pred_dates\n",
    "print(model_prediction_dates)"
   ]
  },
  {
   "cell_type": "code",
   "execution_count": null,
   "id": "bbbae069-9d6d-4fe3-add2-556258bf9d21",
   "metadata": {},
   "outputs": [],
   "source": [
    "from sklearn.linear_model import LinearRegression\n",
    "from sklearn.metrics import r2_score, mean_squared_error, mean_absolute_error\n",
    "\n",
    "# Store forward prediction results\n",
    "forward_predictions = {}\n",
    "\n",
    "for train_date in model_train_dates:\n",
    "    print(f\"\\nTraining model for {train_date}\")\n",
    "\n",
    "    # In-sample training data\n",
    "    train_data = get_train_data(dataset_df, train_date, train_lookback_days, lag=1)\n",
    "    # Replace inf/-inf with NaN, then fill NaNs with 0 or any other strategy\n",
    "    train_data = train_data.replace([np.inf, -np.inf], np.nan).fillna(0)\n",
    "\n",
    "    X_train = train_data[feature_cols]\n",
    "    y_train = train_data[label_col]\n",
    "\n",
    "    if X_train.empty or y_train.empty:\n",
    "        print(\"No training data found. Skipping...\")\n",
    "        continue\n",
    "\n",
    "    # Train model\n",
    "    model = LinearRegression()\n",
    "    model.fit(X_train, y_train)\n",
    "\n",
    "    # In-sample prediction and stats\n",
    "    y_pred_train = model.predict(X_train)\n",
    "    r2 = r2_score(y_train, y_pred_train)\n",
    "    mse = mean_squared_error(y_train, y_pred_train)\n",
    "    mae = mean_absolute_error(y_train, y_pred_train)\n",
    "\n",
    "    print(f\"In-sample R² Score: {r2:.10f}\")\n",
    "    print(f\"In-sample MSE     : {mse:.10f}\")\n",
    "    print(f\"In-sample MAE     : {mae:.10f}\")\n",
    "\n",
    "    # ---- OOS / Forward Predictions ----\n",
    "    pred_dates = model_prediction_dates[train_date]\n",
    "    if pred_dates.empty:\n",
    "        continue\n",
    "\n",
    "    import pytz\n",
    "\n",
    "    # Define your timezone\n",
    "    ASIA_TZ = 'Asia/Kolkata'\n",
    "    \n",
    "    # Make pred_dates timezone-aware\n",
    "    pred_dates = pred_dates.tz_localize(ASIA_TZ)\n",
    "    \n",
    "    # Now safely compare\n",
    "    mask = (dataset_df['timestamp'] >= pred_dates.min()) & (dataset_df['timestamp'] <= pred_dates.max())\n",
    "    pred_df = dataset_df[mask].copy()\n",
    "    # Replace inf/-inf with NaN, then fill NaNs with 0 or any other strategy\n",
    "    pred_df = pred_df.replace([np.inf, -np.inf], np.nan).fillna(0)\n",
    "\n",
    "    if pred_df.empty:\n",
    "        print(\"No data available for forward prediction window.\")\n",
    "        continue\n",
    "\n",
    "    X_pred = pred_df[feature_cols]\n",
    "    y_true = pred_df[label_col] if label_col in pred_df else None\n",
    "\n",
    "    y_pred = model.predict(X_pred)\n",
    "\n",
    "    # Save predictions\n",
    "    forward_predictions[train_date] = {\n",
    "        \"dates\": pred_df['timestamp'].values,\n",
    "        \"predictions\": y_pred,\n",
    "        \"true\": y_true.values if y_true is not None else None\n",
    "    }\n",
    "\n",
    "    # Optionally print or evaluate OOS performance if ground truth is available\n",
    "    if y_true is not None and not y_true.isnull().all():\n",
    "        r2_oos = r2_score(y_true, y_pred)\n",
    "        mse_oos = mean_squared_error(y_true, y_pred)\n",
    "        mae_oos = mean_absolute_error(y_true, y_pred)\n",
    "\n",
    "        print(f\"OOS R² Score: {r2_oos:.10f}\")\n",
    "        print(f\"OOS MSE     : {mse_oos:.10f}\")\n",
    "        print(f\"OOS MAE     : {mae_oos:.10f}\")\n",
    "    else:\n",
    "        print(\"Ground truth not available for OOS window.\")\n"
   ]
  },
  {
   "cell_type": "code",
   "execution_count": 10,
   "id": "361758db-e02a-470f-8525-1028edfade18",
   "metadata": {},
   "outputs": [],
   "source": [
    "# Collect all prediction results\n",
    "all_preds = []\n",
    "\n",
    "for train_date, result in forward_predictions.items():\n",
    "    dates = result[\"dates\"]\n",
    "    preds = result[\"predictions\"]\n",
    "    true_vals = result[\"true\"]\n",
    "\n",
    "    # Build a temporary DataFrame for each train_date\n",
    "    temp_df = pd.DataFrame({\n",
    "        'timestamp': dates,\n",
    "        'prediction': preds,\n",
    "        'fwd_ret': true_vals\n",
    "    })\n",
    "    temp_df['timestamp'] = pd.to_datetime(temp_df['timestamp']).dt.tz_localize('Asia/Kolkata')\n",
    "\n",
    "    # Merge with original dataset to bring in features\n",
    "    merged_df = pd.merge(temp_df, dataset_df[['timestamp'] + feature_cols], on='timestamp', how='left')\n",
    "\n",
    "    # Append to final list\n",
    "    all_preds.append(merged_df)\n",
    "\n",
    "# Combine all into a single DataFrame\n",
    "final_prediction_df = pd.concat(all_preds, ignore_index=True)\n",
    "\n",
    "# Optional: sort by timestamp\n",
    "final_prediction_df = final_prediction_df.sort_values(by='timestamp').reset_index(drop=True)\n",
    "\n"
   ]
  },
  {
   "cell_type": "code",
   "execution_count": 11,
   "id": "71356802-1857-4584-a5f2-b98e858f450a",
   "metadata": {},
   "outputs": [],
   "source": [
    "final_prediction_df['return'] = np.sign(final_prediction_df['prediction']) * final_prediction_df['fwd_ret']"
   ]
  },
  {
   "cell_type": "code",
   "execution_count": 12,
   "id": "dd531ddd-d460-4744-8119-6a88732fcac4",
   "metadata": {},
   "outputs": [],
   "source": [
    "final_prediction_df['Hit'] = np.sign(final_prediction_df['prediction']) * np.sign(final_prediction_df['fwd_ret'])"
   ]
  },
  {
   "cell_type": "code",
   "execution_count": 13,
   "id": "0ff0ca76-e4f1-4a82-ab2c-50a6b4c21500",
   "metadata": {},
   "outputs": [
    {
     "data": {
      "text/plain": [
       "0.5078125"
      ]
     },
     "execution_count": 13,
     "metadata": {},
     "output_type": "execute_result"
    }
   ],
   "source": [
    "len(final_prediction_df[final_prediction_df['Hit'] > 0])/len(final_prediction_df)"
   ]
  },
  {
   "cell_type": "code",
   "execution_count": 14,
   "id": "21e93f2c-6a3a-4cfe-956f-5364881ed5af",
   "metadata": {},
   "outputs": [
    {
     "data": {
      "image/png": "[encoded data removed]",
      "text/plain": [
       "<Figure size 1200x600 with 1 Axes>"
      ]
     },
     "metadata": {},
     "output_type": "display_data"
    }
   ],
   "source": [
    "import matplotlib.pyplot as plt\n",
    "import pandas as pd\n",
    "\n",
    "# Optional: Ensure DataFrame is sorted by time\n",
    "final_prediction_df = final_prediction_df.sort_values(by='timestamp')\n",
    "\n",
    "# Calculate cumulative returns\n",
    "final_prediction_df['cumulative_return'] = final_prediction_df['return'].cumsum()\n",
    "\n",
    "# Plot\n",
    "plt.figure(figsize=(12, 6))\n",
    "plt.plot(final_prediction_df['timestamp'], final_prediction_df['cumulative_return'], label='PnL Curve', color='blue')\n",
    "\n",
    "# Formatting\n",
    "plt.xlabel('Time')\n",
    "plt.ylabel('Cumulative Return')\n",
    "plt.title('Predicted Strategy PnL')\n",
    "plt.grid(True)\n",
    "plt.legend()\n",
    "plt.xticks(rotation=45)\n",
    "plt.tight_layout()\n",
    "\n",
    "plt.show()\n"
   ]
  },
  {
   "cell_type": "code",
   "execution_count": null,
   "id": "8d8fc0c5-c4e2-4766-bfad-786fa31b362a",
   "metadata": {},
   "outputs": [],
   "source": []
  }
 ],
 "metadata": {
  "kernelspec": {
   "display_name": "Python 3 (ipykernel)",
   "language": "python",
   "name": "python3"
  },
  "language_info": {
   "codemirror_mode": {
    "name": "ipython",
    "version": 3
   },
   "file_extension": ".py",
   "mimetype": "text/x-python",
   "name": "python",
   "nbconvert_exporter": "python",
   "pygments_lexer": "ipython3",
   "version": "3.11.8"
  }
 },
 "nbformat": 4,
 "nbformat_minor": 5
}
